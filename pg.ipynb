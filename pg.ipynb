{
 "cells": [
  {
   "cell_type": "markdown",
   "metadata": {},
   "source": []
  },
  {
   "cell_type": "code",
   "execution_count": 25,
   "metadata": {},
   "outputs": [
    {
     "name": "stdout",
     "output_type": "stream",
     "text": [
      "tensor(1.0928)\n"
     ]
    }
   ],
   "source": [
    "import torch\n",
    "a = torch.zeros(768)\n",
    "for i in range(100):\n",
    "    # reason why we adding torch.randn(768) is hopefully after each layer the variance is still 1 \n",
    "    a += torch.randn(768)* 100**-0.5\n",
    "print(a.var())"
   ]
  },
  {
   "cell_type": "code",
   "execution_count": null,
   "metadata": {},
   "outputs": [],
   "source": []
  }
 ],
 "metadata": {
  "language_info": {
   "name": "python"
  }
 },
 "nbformat": 4,
 "nbformat_minor": 2
}
