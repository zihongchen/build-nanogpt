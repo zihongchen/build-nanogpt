{
 "cells": [
  {
   "cell_type": "code",
   "execution_count": 5,
   "metadata": {},
   "outputs": [],
   "source": [
    "import torch.nn as nn\n",
    "import torch \n"
   ]
  },
  {
   "cell_type": "code",
   "execution_count": 17,
   "metadata": {},
   "outputs": [
    {
     "data": {
      "text/plain": [
       "tensor([[-0.6353, -1.2132, -0.0949,  0.3203, -0.3225],\n",
       "        [ 0.2367,  0.0147,  0.2517, -0.0273, -0.1251],\n",
       "        [-1.2102, -1.0622, -0.6262,  0.1759, -0.2925],\n",
       "        [-0.6351, -0.9490, -0.9595,  0.3918,  0.2308],\n",
       "        [ 0.1901,  1.1048,  0.3817, -0.4463, -0.3795]], grad_fn=<MmBackward0>)"
      ]
     },
     "execution_count": 17,
     "metadata": {},
     "output_type": "execute_result"
    }
   ],
   "source": [
    "linear = nn.Linear(5,5, bias= False)\n",
    "tensor = torch.randn((5,5) )\n",
    "linear(tensor)"
   ]
  },
  {
   "cell_type": "code",
   "execution_count": null,
   "metadata": {},
   "outputs": [],
   "source": []
  }
 ],
 "metadata": {
  "kernelspec": {
   "display_name": "AI",
   "language": "python",
   "name": "python3"
  },
  "language_info": {
   "codemirror_mode": {
    "name": "ipython",
    "version": 3
   },
   "file_extension": ".py",
   "mimetype": "text/x-python",
   "name": "python",
   "nbconvert_exporter": "python",
   "pygments_lexer": "ipython3",
   "version": "3.11.8"
  }
 },
 "nbformat": 4,
 "nbformat_minor": 2
}
